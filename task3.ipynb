{
 "cells": [
  {
   "cell_type": "code",
   "execution_count": 6,
   "metadata": {
    "collapsed": true
   },
   "outputs": [],
   "source": [
    "import pandas as pd\n",
    "import numpy as np\n",
    "import matplotlib.pyplot as plt\n",
    "%matplotlib inline"
   ]
  },
  {
   "cell_type": "markdown",
   "metadata": {},
   "source": [
    "$$\\textbf  {u}={\\textbf  {f}}(x,{\\textbf  {u}}),\\quad {\\textbf  {u}}(x_{0})={\\textbf  {u}}_{0}$$\n",
    "$$ \\textbf{u}_{n+1} = \\textbf{u}_n + h\\sum_{i=1}^s b_i \\textbf{k}_i$$\n",
    "где h — величина шага сетки по x и вычисление нового значения проходит в s этапов:\n",
    "$$\\displaystyle {\\begin{array}{ll}{\\textbf {k}}_{1}={\\textbf {f}}(x_{n},{\\textbf {u}}_{n}),\\\\{\\textbf {k}}_{2}={\\textbf {f}}(x_{n}+c_{2}h,{\\textbf {u}}_{n}+a_{21}h{\\textbf {k}}_{1}),\\\\\\cdots\\\\{\\textbf {k}}_{s}={\\textbf {f}}(x_{n}+c_{s}h,{\\textbf {u}}_{n}+a_{s1}h{\\textbf {k}}_{1}+a_{s2}h{\\textbf {k}}_{2}+\\cdots +a_{s,s-1}h{\\textbf {k}}_{s-1})\\end{array}}$$\n",
    "                                       Общий вид  Таблицы Бутчера:\n",
    "$$\\begin{array}{c|ccccc}0&&&&&\\\\c_{2}&a_{{21}}&&&&\\\\c_{3}&a_{{31}}&a_{{32}}&&&\\\\\\vdots &\\vdots &\\vdots &\\ddots &&\\\\c_{s}&a_{{s1}}&a_{{s2}}&\\dots &a_{{ss-1}}&\\\\\\hline &b_{1}&b_{2}&\\dots &b_{{s-1}}&b_{s}\\end{array}$$ \n",
    "\n",
    "В моем случае таблица Бутчера для метода Р-К 3-его порядка имеет вид:\n",
    "                                       $$\\begin{array}{c|ccccc}0&&&&&\\\\\\frac{1}{2}&\\frac{1}{2}&&&&\\\\1&-1&1&&&&&&\\\\\\hline &\\frac{1}{6}&\\frac{2}{3}&\\frac{1}{6}\\end{array}$$\n",
    "                                       \n",
    "                                       "
   ]
  },
  {
   "cell_type": "code",
   "execution_count": 47,
   "metadata": {},
   "outputs": [],
   "source": [
    "class ODESolver:\n",
    "    def __init__(self, a, b, c, f, u_0, u, bounds, h):\n",
    "        self.a = a\n",
    "        self.b = b\n",
    "        self.c = c\n",
    "        self.f = f\n",
    "        self.u_0 = u_0\n",
    "        self.u = u\n",
    "        self.s = len(self.c)\n",
    "        self.lb = bounds[0]\n",
    "        self.rb = bounds[1]\n",
    "        self.h = h\n",
    "        self.x = []\n",
    "        self.x = np.arange(bounds[0], bounds[1]+self.h,self.h)\n",
    "        self.pts_number = len(self.x)\n",
    "        self.u_n = np.zeros(self.pts_number)\n",
    "        self.u_n[0] = self.u_0\n",
    "        \n",
    "        # Make the list of k-functions\n",
    "        k1 = lambda x, y, myh: self.f(x, y)\n",
    "        k2 = lambda x, y, myh: self.f(x + (self.c[1] * myh), y + (self.a[1][0] * myh * k1(x, y, myh)))\n",
    "        k3 = lambda x, y, myh: self.f(x + (self.c[2] * myh), y + (self.a[2][0] * myh * k1(x, y, myh)) \\\n",
    "                                    + (self.a[2][1] * myh * k2(x, y, myh)))\n",
    "        self.k = [k1, k2, k3]\n",
    "        \n",
    "    def solve(self):\n",
    "        for pt in range(self.pts_number-1):\n",
    "            tmp_sum = 0\n",
    "            for j in range(self.s):\n",
    "                tmp_sum += self.b[j] * self.k[j](self.x[pt], self.u_n[pt], self.h)\n",
    "            tmp_sum *= self.h\n",
    "            \n",
    "            self.u_n[pt+1] = (self.u_n[pt] + tmp_sum)\n",
    "            \n",
    "    def error(self):\n",
    "        return max(abs(self.u_n - self.u(self.x)))"
   ]
  },
  {
   "cell_type": "code",
   "execution_count": 48,
   "metadata": {},
   "outputs": [
    {
     "data": {
      "image/png": "[encoded data removed]",
      "text/plain": [
       "<matplotlib.figure.Figure at 0x7f49c3ed3da0>"
      ]
     },
     "metadata": {},
     "output_type": "display_data"
    },
    {
     "data": {
      "image/png": "[encoded data removed]",
      "text/plain": [
       "<matplotlib.figure.Figure at 0x7f49c40306a0>"
      ]
     },
     "metadata": {},
     "output_type": "display_data"
    },
    {
     "name": "stdout",
     "output_type": "stream",
     "text": [
      "Error: 6.8784122042864215e-06\n"
     ]
    }
   ],
   "source": [
    "a = [[0, 0, 0],\n",
    "     [1/2, 0, 0],\n",
    "     [-1, 2, 0]]\n",
    "b = [1/6, 2/3, 1/6]\n",
    "c = [0, 1/2, 1]\n",
    "\n",
    "f = lambda x, u: np.exp(x) * (u ** 2)\n",
    "u0 = -1/2\n",
    "u = lambda x: -1/(np.exp(x) + 1)\n",
    "bounds = (0,10)\n",
    "\n",
    "# (a, b, c, f, u0, u, bounds, h)\n",
    "solver = ODESolver(a, b, c, f, u_0, u, bounds, 0.1)\n",
    "solver.solve()\n",
    "\n",
    "plt.figure()\n",
    "plt.plot(solver.x, solver.u_n)\n",
    "plt.title('ODESolver')\n",
    "plt.show()\n",
    "\n",
    "plt.figure()\n",
    "x = np.linspace(0,10,100)\n",
    "plt.plot(x, u(x))\n",
    "plt.title('Exact Solution')\n",
    "plt.show()\n",
    "\n",
    "print('Error: {}'.format(solver.error()))"
   ]
  },
  {
   "cell_type": "code",
   "execution_count": 49,
   "metadata": {},
   "outputs": [
    {
     "name": "stdout",
     "output_type": "stream",
     "text": [
      "0.0207978025826 1\n",
      "0.00140185011591 0.5\n",
      "0.000128694585331 0.25\n",
      "1.38366330225e-05 0.125\n",
      "1.60718075e-06 0.0625\n",
      "1.93820752503e-07 0.03125\n",
      "2.37999073366e-08 0.015625\n",
      "2.94880393714e-09 0.0078125\n",
      "3.66976740662e-10 0.00390625\n",
      "4.57709564694e-11 0.001953125\n"
     ]
    }
   ],
   "source": [
    "nested_nets = []\n",
    "errors = []\n",
    "h = 1\n",
    "for i in range(10):\n",
    "    solver = ODESolver(a, b, c, f, u0, u, bounds, h)\n",
    "    solver.solve()\n",
    "    errors.append(solver.error())\n",
    "    nested_nets.append(h)\n",
    "    print(solver.error(), h)\n",
    "    h /= 2"
   ]
  },
  {
   "cell_type": "code",
   "execution_count": 50,
   "metadata": {},
   "outputs": [
    {
     "data": {
      "image/png": "[encoded data removed]",
      "text/plain": [
       "<matplotlib.figure.Figure at 0x7f49c3fb14a8>"
      ]
     },
     "metadata": {},
     "output_type": "display_data"
    }
   ],
   "source": [
    "plt.figure()\n",
    "plt.plot(np.log(nested_nets), np.log(errors), 'bo')\n",
    "plt.title('log(Error) vs log(step h)')\n",
    "plt.show()"
   ]
  },
  {
   "cell_type": "code",
   "execution_count": 52,
   "metadata": {},
   "outputs": [
    {
     "name": "stdout",
     "output_type": "stream",
     "text": [
      "Получившийся порядок аппроксимации 3.14884336558\n"
     ]
    }
   ],
   "source": [
    "print(u\"Получившийся порядок аппроксимации\", np.polyfit(np.log(nested_nets), np.log(errors), 1)[0])"
   ]
  },
  {
   "cell_type": "code",
   "execution_count": null,
   "metadata": {
    "collapsed": true
   },
   "outputs": [],
   "source": []
  }
 ],
 "metadata": {
  "kernelspec": {
   "display_name": "Python 3",
   "language": "python",
   "name": "python3"
  },
  "language_info": {
   "codemirror_mode": {
    "name": "ipython",
    "version": 3
   },
   "file_extension": ".py",
   "mimetype": "text/x-python",
   "name": "python",
   "nbconvert_exporter": "python",
   "pygments_lexer": "ipython3",
   "version": "3.6.3"
  }
 },
 "nbformat": 4,
 "nbformat_minor": 2
}
