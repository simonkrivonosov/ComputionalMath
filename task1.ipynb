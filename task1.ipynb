{
 "cells": [
  {
   "cell_type": "code",
   "execution_count": 2,
   "metadata": {
    "collapsed": true
   },
   "outputs": [],
   "source": [
    "import numpy as np\n",
    "import matplotlib.pyplot as plt\n",
    "%matplotlib inline"
   ]
  },
  {
   "cell_type": "code",
   "execution_count": 3,
   "metadata": {
    "collapsed": true
   },
   "outputs": [],
   "source": [
    "class Interpol:\n",
    "    def __init__(self, x, f):\n",
    "        self.x = x\n",
    "        self.f = f\n",
    "        self.y = f(x)\n",
    "        assert(len(self.x) == len(self.y))\n",
    "        \n",
    "        # Считаю разделенные разности\n",
    "        self.div_difs = np.zeros((len(self.y), len(self.y)))\n",
    "        self.div_difs[:,0] = self.y\n",
    "\n",
    "        for i in range(1,len(self.y)):\n",
    "            for j in range(i,len(self.y)):\n",
    "                self.div_difs[j][i] = (self.div_difs[j][i-1] - self.div_difs[j-1][i-1])\\\n",
    "                                        / (x[j] - x[j-i])\n",
    "    \n",
    "    # Рассчет значения интерполяционного многочлена в точке x_0\n",
    "    def calc(self, x0):\n",
    "        ans = []\n",
    "        tmp = 1\n",
    "        ans.append(tmp)\n",
    "        for i in range(len(self.y)-1):\n",
    "            '''\n",
    "            (x-x_0)\n",
    "            (x-x_0)*(x-x_1)\n",
    "            ...\n",
    "            (x-x_0)*...*(x-x_n)\n",
    "            '''\n",
    "            tmp *= x0 - self.x[i]\n",
    "            ans.append(tmp)\n",
    "            \n",
    "        # f_0 + (x-x_0)*f_1 + (x-x_0)(x-x_1)*f_2 + ...\n",
    "        return np.dot(np.array(ans), np.diag(self.div_difs))\n",
    "    \n",
    "    # Рассчет значения производной интерполяционного многочлена в точке x_0\n",
    "    def deriv(self, x0):\n",
    "        ans = []\n",
    "        tmp = 1\n",
    "        for i in range(len(self.y)-1):\n",
    "            tmp *= x0 - self.x[i]\n",
    "            tmp_for_sum = []\n",
    "            for j in range(i+1):\n",
    "                tmp_for_sum.append(tmp / (x0 - self.x[j]))\n",
    "            ans.append(sum(tmp_for_sum))\n",
    "        return np.dot(np.array(ans), np.diag(self.div_difs)[1:])\n",
    "    \n",
    "    # Построение графика\n",
    "    def draw_plot(self):\n",
    "        plt.figure()\n",
    "        plt.scatter(self.x, self.y)\n",
    "        x = np.linspace(min(self.x), max(self.x), 100)\n",
    "        plt.plot(x, [self.calc(i) for i in x], 'b--', label='Polynomial Interpolation')\n",
    "        plt.plot(x, self.f(x), 'g-', label='Original Function')\n",
    "        plt.legend(bbox_to_anchor=(0., 1.02, 1., .102), loc=3, ncol=2, \\\n",
    "               mode=\"expand\", borderaxespad=0.)\n",
    "        plt.show()"
   ]
  },
  {
   "cell_type": "code",
   "execution_count": 4,
   "metadata": {},
   "outputs": [
    {
     "data": {
      "image/png": "[encoded data removed]",
      "text/plain": [
       "<matplotlib.figure.Figure at 0x7f47ad0858d0>"
      ]
     },
     "metadata": {},
     "output_type": "display_data"
    }
   ],
   "source": [
    "# Исходная функция\n",
    "f = lambda x: np.cos(x)\n",
    "\n",
    "x = np.array([-1.2,-1,1,4,5])\n",
    "p = 4.2\n",
    "\n",
    "polynom = Interpol(x, f)\n",
    "polynom.draw_plot()"
   ]
  },
  {
   "cell_type": "code",
   "execution_count": 5,
   "metadata": {},
   "outputs": [
    {
     "name": "stdout",
     "output_type": "stream",
     "text": [
      "Значение полинома в точке: -0.557636545925\n",
      "Значение производной полинома в точке: 0.581933099053\n"
     ]
    }
   ],
   "source": [
    "print(\"Значение полинома в точке:\", polynom.calc(p))\n",
    "print(\"Значение производной полинома в точке:\", polynom.deriv(p))"
   ]
  },
  {
   "cell_type": "code",
   "execution_count": null,
   "metadata": {
    "collapsed": true
   },
   "outputs": [],
   "source": []
  }
 ],
 "metadata": {
  "kernelspec": {
   "display_name": "Python 3",
   "language": "python",
   "name": "python3"
  },
  "language_info": {
   "codemirror_mode": {
    "name": "ipython",
    "version": 3
   },
   "file_extension": ".py",
   "mimetype": "text/x-python",
   "name": "python",
   "nbconvert_exporter": "python",
   "pygments_lexer": "ipython3",
   "version": "3.6.3"
  }
 },
 "nbformat": 4,
 "nbformat_minor": 2
}
